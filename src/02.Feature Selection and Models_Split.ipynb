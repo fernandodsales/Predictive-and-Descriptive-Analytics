{
 "cells": [
  {
   "cell_type": "markdown",
   "id": "bc242027",
   "metadata": {},
   "source": [
    "# Advanced Analytics in Fundraising - Predictive and Descriptive Analytics \n",
    "Fernando Delgado, Mario Serrano and Harikrishnan Gopalakrishnan\n",
    "\n",
    "## Feature Selection and Models\n",
    "**Workflow stages:**\n",
    "\n",
    "The following notebook goes through the following stages: \n",
    "\n",
    "1. Data Scaling and Partition\n",
    "2. Feature Selection\n",
    "3. Model construction\n",
    "4. Model evaluation\n",
    "5. Business Case - How much would our model have improved the performance of campagins?\n",
    "6. Model Prediction with new campagin"
   ]
  },
  {
   "cell_type": "code",
   "execution_count": 1,
   "id": "a555b2cb",
   "metadata": {},
   "outputs": [],
   "source": [
    "# Data Science\n",
    "import numpy as np\n",
    "import pandas as pd\n",
    "import statistics as st\n",
    "\n",
    "#Visualization\n",
    "import matplotlib.pyplot as plt\n",
    "\n",
    "#Machine Learning\n",
    "import sys\n",
    "from sklearn.linear_model import LogisticRegression\n",
    "from sklearn.tree import DecisionTreeClassifier\n",
    "from sklearn.ensemble import RandomForestClassifier\n",
    "from sklearn.ensemble import GradientBoostingClassifier\n",
    "from sklearn.svm import SVC\n",
    "from sklearn.neural_network import MLPClassifier\n",
    "from sklearn.neighbors import KNeighborsClassifier\n",
    "from sklearn.metrics import accuracy_score\n",
    "from sklearn.metrics import auc\n",
    "from sklearn.metrics import roc_auc_score\n",
    "from scipy.stats          import pearsonr\n",
    "\n",
    "from sklearn.model_selection import train_test_split"
   ]
  },
  {
   "cell_type": "code",
   "execution_count": 2,
   "id": "31e45984",
   "metadata": {},
   "outputs": [],
   "source": [
    "#Read Datasets\n",
    "df_train = pd.read_csv('../data/interim/Train Set Donors.csv')\n",
    "df_test = pd.read_csv('../data/interim/Test Set Donors.csv')"
   ]
  },
  {
   "cell_type": "code",
   "execution_count": 3,
   "id": "282d6818",
   "metadata": {},
   "outputs": [
    {
     "data": {
      "text/plain": [
       "Index(['donorID', 'province', 'region', 'gender', 'language', 'Flanders',\n",
       "       'Wallonia', 'Antwerp', 'Brussels', 'East Flanders', 'Flemish Brabant',\n",
       "       'Hainaut', 'Liege', 'Limburg', 'Luxembourg', 'Namur', 'Walloon Brabant',\n",
       "       'West Flanders', 'number_don', 'uni_campaigns', 'sum_amount',\n",
       "       'min_amount', 'max_amount', 'avg_don', 'ratio_don', 'donated_more_one',\n",
       "       'donated_more_five', 'more_30', 'target_6169', 'sup_95', 'rec_d',\n",
       "       'rec_m', 'F', 'M', 'RFM_Score', 'RFM_Level', 'don_last_six_mon',\n",
       "       'don_last_year', 'don_last_3_years', 'age', 'age_group'],\n",
       "      dtype='object')"
      ]
     },
     "execution_count": 3,
     "metadata": {},
     "output_type": "execute_result"
    }
   ],
   "source": [
    "df_train.columns"
   ]
  },
  {
   "cell_type": "markdown",
   "id": "7fa69703",
   "metadata": {},
   "source": [
    "## Data Scaling and Partition"
   ]
  },
  {
   "cell_type": "code",
   "execution_count": 4,
   "id": "8805de7b",
   "metadata": {},
   "outputs": [],
   "source": [
    "#scale the data https://scikit-learn.org/stable/modules/generated/sklearn.preprocessing.MinMaxScaler.html\n",
    "\n",
    "#from sklearn.preprocessing import MinMaxScaler\n",
    "#scaler = MinMaxScaler()\n",
    "#scaled_base_table = pd.DataFrame(scaler.fit_transform(df_train.drop(['donorID'],axis=1)), columns=df_train.drop(['donorID'],axis=1).columns)\n",
    "\n",
    "#scaled_base_table.head()\n"
   ]
  },
  {
   "cell_type": "code",
   "execution_count": 5,
   "id": "cda5ba34",
   "metadata": {},
   "outputs": [
    {
     "data": {
      "text/html": [
       "<div>\n",
       "<style scoped>\n",
       "    .dataframe tbody tr th:only-of-type {\n",
       "        vertical-align: middle;\n",
       "    }\n",
       "\n",
       "    .dataframe tbody tr th {\n",
       "        vertical-align: top;\n",
       "    }\n",
       "\n",
       "    .dataframe thead th {\n",
       "        text-align: right;\n",
       "    }\n",
       "</style>\n",
       "<table border=\"1\" class=\"dataframe\">\n",
       "  <thead>\n",
       "    <tr style=\"text-align: right;\">\n",
       "      <th></th>\n",
       "      <th>donorID</th>\n",
       "      <th>province</th>\n",
       "      <th>region</th>\n",
       "      <th>gender</th>\n",
       "      <th>language</th>\n",
       "      <th>Flanders</th>\n",
       "      <th>Wallonia</th>\n",
       "      <th>Antwerp</th>\n",
       "      <th>Brussels</th>\n",
       "      <th>East Flanders</th>\n",
       "      <th>...</th>\n",
       "      <th>rec_m</th>\n",
       "      <th>F</th>\n",
       "      <th>M</th>\n",
       "      <th>RFM_Score</th>\n",
       "      <th>RFM_Level</th>\n",
       "      <th>don_last_six_mon</th>\n",
       "      <th>don_last_year</th>\n",
       "      <th>don_last_3_years</th>\n",
       "      <th>age</th>\n",
       "      <th>age_group</th>\n",
       "    </tr>\n",
       "  </thead>\n",
       "  <tbody>\n",
       "    <tr>\n",
       "      <th>8966</th>\n",
       "      <td>110739</td>\n",
       "      <td>Limburg</td>\n",
       "      <td>Flanders</td>\n",
       "      <td>0</td>\n",
       "      <td>1</td>\n",
       "      <td>1</td>\n",
       "      <td>0</td>\n",
       "      <td>0</td>\n",
       "      <td>0</td>\n",
       "      <td>0</td>\n",
       "      <td>...</td>\n",
       "      <td>143.0</td>\n",
       "      <td>0.0</td>\n",
       "      <td>0.0</td>\n",
       "      <td>1.0</td>\n",
       "      <td>4</td>\n",
       "      <td>0.0</td>\n",
       "      <td>0.0</td>\n",
       "      <td>0.0</td>\n",
       "      <td>44</td>\n",
       "      <td>4</td>\n",
       "    </tr>\n",
       "    <tr>\n",
       "      <th>11342</th>\n",
       "      <td>113580</td>\n",
       "      <td>West Flanders</td>\n",
       "      <td>Flanders</td>\n",
       "      <td>0</td>\n",
       "      <td>1</td>\n",
       "      <td>1</td>\n",
       "      <td>0</td>\n",
       "      <td>0</td>\n",
       "      <td>0</td>\n",
       "      <td>0</td>\n",
       "      <td>...</td>\n",
       "      <td>124.0</td>\n",
       "      <td>0.0</td>\n",
       "      <td>0.0</td>\n",
       "      <td>2.0</td>\n",
       "      <td>3</td>\n",
       "      <td>0.0</td>\n",
       "      <td>0.0</td>\n",
       "      <td>0.0</td>\n",
       "      <td>40</td>\n",
       "      <td>4</td>\n",
       "    </tr>\n",
       "    <tr>\n",
       "      <th>13677</th>\n",
       "      <td>116309</td>\n",
       "      <td>West Flanders</td>\n",
       "      <td>Flanders</td>\n",
       "      <td>1</td>\n",
       "      <td>1</td>\n",
       "      <td>1</td>\n",
       "      <td>0</td>\n",
       "      <td>0</td>\n",
       "      <td>0</td>\n",
       "      <td>0</td>\n",
       "      <td>...</td>\n",
       "      <td>111.0</td>\n",
       "      <td>0.0</td>\n",
       "      <td>0.0</td>\n",
       "      <td>2.0</td>\n",
       "      <td>3</td>\n",
       "      <td>0.0</td>\n",
       "      <td>0.0</td>\n",
       "      <td>0.0</td>\n",
       "      <td>50</td>\n",
       "      <td>5</td>\n",
       "    </tr>\n",
       "    <tr>\n",
       "      <th>12882</th>\n",
       "      <td>115399</td>\n",
       "      <td>West Flanders</td>\n",
       "      <td>Flanders</td>\n",
       "      <td>1</td>\n",
       "      <td>1</td>\n",
       "      <td>1</td>\n",
       "      <td>0</td>\n",
       "      <td>0</td>\n",
       "      <td>0</td>\n",
       "      <td>0</td>\n",
       "      <td>...</td>\n",
       "      <td>132.0</td>\n",
       "      <td>0.0</td>\n",
       "      <td>0.0</td>\n",
       "      <td>2.0</td>\n",
       "      <td>3</td>\n",
       "      <td>0.0</td>\n",
       "      <td>0.0</td>\n",
       "      <td>0.0</td>\n",
       "      <td>46</td>\n",
       "      <td>4</td>\n",
       "    </tr>\n",
       "    <tr>\n",
       "      <th>1368</th>\n",
       "      <td>101658</td>\n",
       "      <td>Flemish Brabant</td>\n",
       "      <td>Flanders</td>\n",
       "      <td>0</td>\n",
       "      <td>1</td>\n",
       "      <td>1</td>\n",
       "      <td>0</td>\n",
       "      <td>0</td>\n",
       "      <td>0</td>\n",
       "      <td>0</td>\n",
       "      <td>...</td>\n",
       "      <td>148.0</td>\n",
       "      <td>0.0</td>\n",
       "      <td>0.0</td>\n",
       "      <td>1.0</td>\n",
       "      <td>4</td>\n",
       "      <td>0.0</td>\n",
       "      <td>0.0</td>\n",
       "      <td>0.0</td>\n",
       "      <td>55</td>\n",
       "      <td>5</td>\n",
       "    </tr>\n",
       "  </tbody>\n",
       "</table>\n",
       "<p>5 rows × 40 columns</p>\n",
       "</div>"
      ],
      "text/plain": [
       "       donorID         province    region  gender  language  Flanders  \\\n",
       "8966    110739          Limburg  Flanders       0         1         1   \n",
       "11342   113580    West Flanders  Flanders       0         1         1   \n",
       "13677   116309    West Flanders  Flanders       1         1         1   \n",
       "12882   115399    West Flanders  Flanders       1         1         1   \n",
       "1368    101658  Flemish Brabant  Flanders       0         1         1   \n",
       "\n",
       "       Wallonia  Antwerp  Brussels  East Flanders  ...  rec_m    F    M  \\\n",
       "8966          0        0         0              0  ...  143.0  0.0  0.0   \n",
       "11342         0        0         0              0  ...  124.0  0.0  0.0   \n",
       "13677         0        0         0              0  ...  111.0  0.0  0.0   \n",
       "12882         0        0         0              0  ...  132.0  0.0  0.0   \n",
       "1368          0        0         0              0  ...  148.0  0.0  0.0   \n",
       "\n",
       "       RFM_Score  RFM_Level  don_last_six_mon  don_last_year  \\\n",
       "8966         1.0          4               0.0            0.0   \n",
       "11342        2.0          3               0.0            0.0   \n",
       "13677        2.0          3               0.0            0.0   \n",
       "12882        2.0          3               0.0            0.0   \n",
       "1368         1.0          4               0.0            0.0   \n",
       "\n",
       "       don_last_3_years  age  age_group  \n",
       "8966                0.0   44          4  \n",
       "11342               0.0   40          4  \n",
       "13677               0.0   50          5  \n",
       "12882               0.0   46          4  \n",
       "1368                0.0   55          5  \n",
       "\n",
       "[5 rows x 40 columns]"
      ]
     },
     "execution_count": 5,
     "metadata": {},
     "output_type": "execute_result"
    }
   ],
   "source": [
    "#Define features and target\n",
    "features = list(df_train.drop([\"target_6169\"],1).columns)\n",
    "target = 'target_6169'\n",
    "\n",
    "# split data in train and test\n",
    "X, y = df_train[features], df_train[target]\n",
    "trainingSet, testSet, y_train, y_test = train_test_split(X,y, test_size=0.3,stratify = y, random_state=50)\n",
    "\n",
    "trainingSet.head()"
   ]
  },
  {
   "cell_type": "code",
   "execution_count": 6,
   "id": "3cec962a",
   "metadata": {},
   "outputs": [],
   "source": [
    "#pip install -U imbalanced-learn\n",
    "#we are going to try with oversampling\n",
    "\n",
    "#from imblearn.over_sampling import RandomOverSampler\n",
    "\n",
    "#ros = RandomOverSampler(random_state=0)\n",
    "#X_resampled, y_resampled = ros.fit_resample(trainingSet, y_train)\n"
   ]
  },
  {
   "cell_type": "code",
   "execution_count": 7,
   "id": "d96f4742",
   "metadata": {},
   "outputs": [
    {
     "name": "stdout",
     "output_type": "stream",
     "text": [
      "(24406, 40)\n",
      "(24406,)\n"
     ]
    }
   ],
   "source": [
    "print(trainingSet.shape)\n",
    "#print(X_resampled.shape)\n",
    "\n",
    "print(y_train.shape)\n",
    "#print(y_resampled.shape)\n"
   ]
  },
  {
   "cell_type": "code",
   "execution_count": 8,
   "id": "43d3dbd3",
   "metadata": {},
   "outputs": [
    {
     "data": {
      "text/plain": [
       "(10460, 40)"
      ]
     },
     "execution_count": 8,
     "metadata": {},
     "output_type": "execute_result"
    }
   ],
   "source": [
    "testSet.shape"
   ]
  },
  {
   "cell_type": "markdown",
   "id": "ed3a0d1b",
   "metadata": {},
   "source": [
    "## Feature Selection \n",
    "Using an Univariate feature selection we decide the best features to avoid overfitting. In this case, we use a p-value of 0.05 to choose the top features:"
   ]
  },
  {
   "cell_type": "code",
   "execution_count": 9,
   "id": "7870ca66",
   "metadata": {},
   "outputs": [
    {
     "name": "stdout",
     "output_type": "stream",
     "text": [
      "donorID - p-value = 0.9453039534329618 - selected : 0\n",
      "gender - p-value = 1.195648362539945e-66 - selected : 1\n",
      "language - p-value = 0.06195637651613625 - selected : 0\n",
      "Flanders - p-value = 0.04345210471028589 - selected : 1\n",
      "Wallonia - p-value = 0.10153177770206889 - selected : 0\n",
      "Antwerp - p-value = 0.9193180545788687 - selected : 0\n",
      "Brussels - p-value = 0.263922294531239 - selected : 0\n",
      "East Flanders - p-value = 0.31121908900626255 - selected : 0\n",
      "Flemish Brabant - p-value = 0.4724788579911498 - selected : 0\n",
      "Hainaut - p-value = 0.019104521345677947 - selected : 1\n",
      "Liege - p-value = 0.7691197515628576 - selected : 0\n",
      "Limburg - p-value = 0.11572057769512396 - selected : 0\n",
      "Luxembourg - p-value = 0.86222896202108 - selected : 0\n",
      "Namur - p-value = 0.5565141370663719 - selected : 0\n",
      "Walloon Brabant - p-value = 0.05996645822825111 - selected : 0\n",
      "West Flanders - p-value = 0.2970966013211699 - selected : 0\n",
      "number_don - p-value = 0.8464480004453857 - selected : 0\n",
      "uni_campaigns - p-value = 0.7387028425068696 - selected : 0\n",
      "sum_amount - p-value = 0.8268206382591833 - selected : 0\n",
      "min_amount - p-value = 0.8707759980512919 - selected : 0\n",
      "max_amount - p-value = 0.8189362139480223 - selected : 0\n",
      "avg_don - p-value = 0.8169928258866583 - selected : 0\n",
      "ratio_don - p-value = 0.8464480004453857 - selected : 0\n",
      "donated_more_one - p-value = 0.0001826935761068809 - selected : 1\n",
      "donated_more_five - p-value = 0.8839393955091439 - selected : 0\n",
      "more_30 - p-value = 1.4935299846058881e-05 - selected : 1\n",
      "sup_95 - p-value = 0.6798294728377752 - selected : 0\n",
      "rec_d - p-value = 0.00027105158585637683 - selected : 1\n",
      "rec_m - p-value = 0.0002761732463447529 - selected : 1\n",
      "F - p-value = 0.6304477866459886 - selected : 0\n",
      "M - p-value = 0.8148874887335965 - selected : 0\n",
      "RFM_Score - p-value = 0.0005328122012715399 - selected : 1\n",
      "RFM_Level - p-value = 0.3850202100742876 - selected : 0\n",
      "don_last_six_mon - p-value = 0.16663925469073051 - selected : 0\n",
      "don_last_year - p-value = 0.7164870127226515 - selected : 0\n",
      "don_last_3_years - p-value = 0.9394497910072315 - selected : 0\n",
      "age - p-value = 1.0001177243054244e-59 - selected : 1\n",
      "age_group - p-value = 2.3588388926153394e-57 - selected : 1\n"
     ]
    }
   ],
   "source": [
    "selectedFeatures = []\n",
    "\n",
    "for column in trainingSet[features].columns:\n",
    "    if column not in (['province','region']):\n",
    "        (pearson,pvalue) = pearsonr(trainingSet[column],y_train)\n",
    "        print(f\"{column} - p-value = {pvalue} - selected : {1 if pvalue < 0.05 else 0}\")\n",
    "        if pvalue < 0.05:\n",
    "            selectedFeatures.append(column)"
   ]
  },
  {
   "cell_type": "code",
   "execution_count": 10,
   "id": "2757ff35",
   "metadata": {
    "scrolled": false
   },
   "outputs": [
    {
     "data": {
      "text/plain": [
       "['gender',\n",
       " 'Flanders',\n",
       " 'Hainaut',\n",
       " 'donated_more_one',\n",
       " 'more_30',\n",
       " 'rec_d',\n",
       " 'rec_m',\n",
       " 'RFM_Score',\n",
       " 'age',\n",
       " 'age_group']"
      ]
     },
     "execution_count": 10,
     "metadata": {},
     "output_type": "execute_result"
    }
   ],
   "source": [
    "selectedFeatures"
   ]
  },
  {
   "cell_type": "markdown",
   "id": "72769c29",
   "metadata": {},
   "source": [
    "## Model Construction"
   ]
  },
  {
   "cell_type": "markdown",
   "id": "bc2efab2",
   "metadata": {},
   "source": [
    "Now we are ready to train a model and predict the required solution. We want to identify relationship between output (Donated or not) with other variables or features. First we will run the AUC score of the following models to choose the best models to construct:\n",
    "- Decision Tree\n",
    "- Logistic Regression\n",
    "- Random Forrest\n",
    "- Boosted Tree\n",
    "- Support Vector Machines\n",
    "- Neural Network\n",
    "- KNN or k-Nearest Neighbors"
   ]
  },
  {
   "cell_type": "code",
   "execution_count": 35,
   "id": "f014526f",
   "metadata": {},
   "outputs": [],
   "source": [
    "tree         = DecisionTreeClassifier()\n",
    "logistic     = LogisticRegression(solver = \"lbfgs\", max_iter = 500)\n",
    "randomForest = RandomForestClassifier(n_estimators = 100)\n",
    "boostedTree  = GradientBoostingClassifier(n_estimators=100, learning_rate=1.0, max_depth=1, random_state=0)\n",
    "svm          = SVC(gamma = \"scale\", probability = True)\n",
    "neuralNet    = MLPClassifier()\n",
    "neighbors    = KNeighborsClassifier()\n",
    "models = {\"tree\"         :tree,\n",
    "          \"logistic\"     :logistic,\n",
    "          \"randomForest\" :randomForest,\n",
    "          \"boostedTree\"  :boostedTree,\n",
    "          \"svm\"          :svm,\n",
    "          \"neuralNet\"    :neuralNet,\n",
    "          \"neighbors\"    :neighbors\n",
    "         }\n",
    "performances = {}\n"
   ]
  },
  {
   "cell_type": "code",
   "execution_count": 36,
   "id": "2c49f44f",
   "metadata": {},
   "outputs": [],
   "source": [
    "for model in models:\n",
    "    models[model].fit(trainingSet[selectedFeatures],y_train)\n"
   ]
  },
  {
   "cell_type": "code",
   "execution_count": 37,
   "id": "519c85c8",
   "metadata": {},
   "outputs": [
    {
     "name": "stderr",
     "output_type": "stream",
     "text": [
      "C:\\tools\\Anaconda3\\envs\\py\\lib\\site-packages\\sklearn\\base.py:441: UserWarning: X does not have valid feature names, but KNeighborsClassifier was fitted with feature names\n",
      "  warnings.warn(\n",
      "C:\\tools\\Anaconda3\\envs\\py\\lib\\site-packages\\sklearn\\base.py:441: UserWarning: X does not have valid feature names, but KNeighborsClassifier was fitted with feature names\n",
      "  warnings.warn(\n"
     ]
    }
   ],
   "source": [
    "for model in models:\n",
    "    predictions   = models[model].predict(testSet[selectedFeatures])\n",
    "    probabilities = pd.DataFrame(models[model].predict_proba(testSet[selectedFeatures]))[1]\n",
    "    accuracy      = accuracy_score(y_test,predictions)\n",
    "    auc           = roc_auc_score(np.array(y_test),np.array(probabilities))\n",
    "    performances[model] = {\"Accuracy\":accuracy,\"AUC\":auc}\n"
   ]
  },
  {
   "cell_type": "code",
   "execution_count": 38,
   "id": "2b178634",
   "metadata": {
    "scrolled": false
   },
   "outputs": [
    {
     "data": {
      "text/html": [
       "<div>\n",
       "<style scoped>\n",
       "    .dataframe tbody tr th:only-of-type {\n",
       "        vertical-align: middle;\n",
       "    }\n",
       "\n",
       "    .dataframe tbody tr th {\n",
       "        vertical-align: top;\n",
       "    }\n",
       "\n",
       "    .dataframe thead th {\n",
       "        text-align: right;\n",
       "    }\n",
       "</style>\n",
       "<table border=\"1\" class=\"dataframe\">\n",
       "  <thead>\n",
       "    <tr style=\"text-align: right;\">\n",
       "      <th></th>\n",
       "      <th>tree</th>\n",
       "      <th>logistic</th>\n",
       "      <th>randomForest</th>\n",
       "      <th>boostedTree</th>\n",
       "      <th>svm</th>\n",
       "      <th>neuralNet</th>\n",
       "      <th>neighbors</th>\n",
       "    </tr>\n",
       "  </thead>\n",
       "  <tbody>\n",
       "    <tr>\n",
       "      <th>Accuracy</th>\n",
       "      <td>0.945793</td>\n",
       "      <td>0.972753</td>\n",
       "      <td>0.971511</td>\n",
       "      <td>0.972945</td>\n",
       "      <td>0.972753</td>\n",
       "      <td>0.972753</td>\n",
       "      <td>0.972753</td>\n",
       "    </tr>\n",
       "    <tr>\n",
       "      <th>AUC</th>\n",
       "      <td>0.512777</td>\n",
       "      <td>0.746314</td>\n",
       "      <td>0.662874</td>\n",
       "      <td>0.761087</td>\n",
       "      <td>0.452521</td>\n",
       "      <td>0.710571</td>\n",
       "      <td>0.531139</td>\n",
       "    </tr>\n",
       "  </tbody>\n",
       "</table>\n",
       "</div>"
      ],
      "text/plain": [
       "              tree  logistic  randomForest  boostedTree       svm  neuralNet  \\\n",
       "Accuracy  0.945793  0.972753      0.971511     0.972945  0.972753   0.972753   \n",
       "AUC       0.512777  0.746314      0.662874     0.761087  0.452521   0.710571   \n",
       "\n",
       "          neighbors  \n",
       "Accuracy   0.972753  \n",
       "AUC        0.531139  "
      ]
     },
     "execution_count": 38,
     "metadata": {},
     "output_type": "execute_result"
    }
   ],
   "source": [
    "pd.DataFrame(performances)"
   ]
  },
  {
   "cell_type": "markdown",
   "id": "85606bb2",
   "metadata": {},
   "source": [
    "## Model Evaluation"
   ]
  },
  {
   "cell_type": "code",
   "execution_count": 16,
   "id": "d26b6356",
   "metadata": {},
   "outputs": [
    {
     "name": "stdout",
     "output_type": "stream",
     "text": [
      "Accuracy Train:\tACC=0.9729\n",
      "Accuracy Test:\tACC=0.9729\n",
      "AUC Train:\tACC=0.7715\n",
      "AUC Test:\tACC=0.7611\n"
     ]
    }
   ],
   "source": [
    "# Gradient Classifier\n",
    "boostedTree  = GradientBoostingClassifier(n_estimators=100, learning_rate= 1, max_depth=1, random_state=0)\n",
    "boostedTree = boostedTree.fit(trainingSet[selectedFeatures].values, y_train)\n",
    "\n",
    "# predict probabilities\n",
    "pred_train = boostedTree.predict_proba(trainingSet[selectedFeatures].values)\n",
    "pred_test = boostedTree.predict_proba(testSet[selectedFeatures].values)\n",
    "\n",
    "# evaluate predictions\n",
    "acc_train = accuracy_score(y_train, np.argmax(pred_train, axis=1))\n",
    "acc_test = accuracy_score(y_test, np.argmax(pred_test, axis=1))\n",
    "aucTraining = roc_auc_score(y_train,pred_train[:,1])\n",
    "aucTest = roc_auc_score(y_test,pred_test[:,1])\n",
    "print(f\"Accuracy Train:\\tACC={acc_train:.4f}\")\n",
    "print(f\"Accuracy Test:\\tACC={acc_test:.4f}\")\n",
    "print(f\"AUC Train:\\tACC={aucTraining:.4f}\")\n",
    "print(f\"AUC Test:\\tACC={aucTest:.4f}\")"
   ]
  },
  {
   "cell_type": "markdown",
   "id": "c09bf728",
   "metadata": {},
   "source": [
    "## Test Model on Second Campaign"
   ]
  },
  {
   "cell_type": "code",
   "execution_count": 17,
   "id": "70c6ac3f",
   "metadata": {},
   "outputs": [
    {
     "name": "stdout",
     "output_type": "stream",
     "text": [
      "AUC Test:\tACC=0.6438\n"
     ]
    }
   ],
   "source": [
    "# test on data\n",
    "#scaler = MinMaxScaler()\n",
    "#scaled_test = pd.DataFrame(scaler.fit_transform(df_test.drop(['donorID'],axis=1)), columns=df_test.drop(['donorID'],axis=1).columns)\n",
    "#scaled_test.head()\n",
    "\n",
    "target =df_test['target_7244']\n",
    "# predict probabilities\n",
    "pred_test = boostedTree.predict_proba(df_test[selectedFeatures].values)\n",
    "aucTest = roc_auc_score(target,pred_test[:,1])\n",
    "print(f\"AUC Test:\\tACC={aucTest:.4f}\")"
   ]
  },
  {
   "cell_type": "markdown",
   "id": "e032cd79",
   "metadata": {},
   "source": [
    "## Business Case\n",
    "How much would our model have improved the performance of campagins?"
   ]
  },
  {
   "cell_type": "code",
   "execution_count": 18,
   "id": "d98c2966",
   "metadata": {
    "scrolled": true
   },
   "outputs": [
    {
     "data": {
      "text/plain": [
       "array([[0.96897951, 0.03102049],\n",
       "       [0.98134703, 0.01865297],\n",
       "       [0.9699527 , 0.0300473 ],\n",
       "       ...,\n",
       "       [0.93467281, 0.06532719],\n",
       "       [0.99165517, 0.00834483],\n",
       "       [0.99473078, 0.00526922]])"
      ]
     },
     "execution_count": 18,
     "metadata": {},
     "output_type": "execute_result"
    }
   ],
   "source": [
    "pred_test"
   ]
  },
  {
   "cell_type": "markdown",
   "id": "acf4aae3",
   "metadata": {},
   "source": [
    "We add our calculated probability of donation to our database"
   ]
  },
  {
   "cell_type": "code",
   "execution_count": 19,
   "id": "642eb13e",
   "metadata": {},
   "outputs": [
    {
     "data": {
      "text/html": [
       "<div>\n",
       "<style scoped>\n",
       "    .dataframe tbody tr th:only-of-type {\n",
       "        vertical-align: middle;\n",
       "    }\n",
       "\n",
       "    .dataframe tbody tr th {\n",
       "        vertical-align: top;\n",
       "    }\n",
       "\n",
       "    .dataframe thead th {\n",
       "        text-align: right;\n",
       "    }\n",
       "</style>\n",
       "<table border=\"1\" class=\"dataframe\">\n",
       "  <thead>\n",
       "    <tr style=\"text-align: right;\">\n",
       "      <th></th>\n",
       "      <th>donorID</th>\n",
       "      <th>province</th>\n",
       "      <th>region</th>\n",
       "      <th>gender</th>\n",
       "      <th>language</th>\n",
       "      <th>Flanders</th>\n",
       "      <th>Wallonia</th>\n",
       "      <th>Antwerp</th>\n",
       "      <th>Brussels</th>\n",
       "      <th>East Flanders</th>\n",
       "      <th>...</th>\n",
       "      <th>F</th>\n",
       "      <th>M</th>\n",
       "      <th>RFM_Score</th>\n",
       "      <th>RFM_Level</th>\n",
       "      <th>don_last_six_mon</th>\n",
       "      <th>don_last_year</th>\n",
       "      <th>don_last_3_years</th>\n",
       "      <th>age</th>\n",
       "      <th>age_group</th>\n",
       "      <th>proba_donation</th>\n",
       "    </tr>\n",
       "  </thead>\n",
       "  <tbody>\n",
       "    <tr>\n",
       "      <th>0</th>\n",
       "      <td>100001</td>\n",
       "      <td>Flemish Brabant</td>\n",
       "      <td>Flanders</td>\n",
       "      <td>0</td>\n",
       "      <td>1</td>\n",
       "      <td>1</td>\n",
       "      <td>0</td>\n",
       "      <td>0</td>\n",
       "      <td>0</td>\n",
       "      <td>0</td>\n",
       "      <td>...</td>\n",
       "      <td>0.0</td>\n",
       "      <td>0.0</td>\n",
       "      <td>2.0</td>\n",
       "      <td>3</td>\n",
       "      <td>0.0</td>\n",
       "      <td>0.0</td>\n",
       "      <td>0.0</td>\n",
       "      <td>51</td>\n",
       "      <td>5</td>\n",
       "      <td>0.031020</td>\n",
       "    </tr>\n",
       "    <tr>\n",
       "      <th>1</th>\n",
       "      <td>100002</td>\n",
       "      <td>Antwerp</td>\n",
       "      <td>Flanders</td>\n",
       "      <td>1</td>\n",
       "      <td>1</td>\n",
       "      <td>1</td>\n",
       "      <td>0</td>\n",
       "      <td>1</td>\n",
       "      <td>0</td>\n",
       "      <td>0</td>\n",
       "      <td>...</td>\n",
       "      <td>0.0</td>\n",
       "      <td>0.0</td>\n",
       "      <td>3.0</td>\n",
       "      <td>3</td>\n",
       "      <td>0.0</td>\n",
       "      <td>0.0</td>\n",
       "      <td>0.0</td>\n",
       "      <td>66</td>\n",
       "      <td>6</td>\n",
       "      <td>0.018653</td>\n",
       "    </tr>\n",
       "    <tr>\n",
       "      <th>2</th>\n",
       "      <td>100008</td>\n",
       "      <td>Flemish Brabant</td>\n",
       "      <td>Flanders</td>\n",
       "      <td>1</td>\n",
       "      <td>0</td>\n",
       "      <td>1</td>\n",
       "      <td>0</td>\n",
       "      <td>0</td>\n",
       "      <td>0</td>\n",
       "      <td>0</td>\n",
       "      <td>...</td>\n",
       "      <td>0.0</td>\n",
       "      <td>0.0</td>\n",
       "      <td>2.0</td>\n",
       "      <td>3</td>\n",
       "      <td>0.0</td>\n",
       "      <td>0.0</td>\n",
       "      <td>0.0</td>\n",
       "      <td>81</td>\n",
       "      <td>8</td>\n",
       "      <td>0.030047</td>\n",
       "    </tr>\n",
       "    <tr>\n",
       "      <th>3</th>\n",
       "      <td>100009</td>\n",
       "      <td>Brussels</td>\n",
       "      <td>Brussels</td>\n",
       "      <td>1</td>\n",
       "      <td>0</td>\n",
       "      <td>0</td>\n",
       "      <td>0</td>\n",
       "      <td>0</td>\n",
       "      <td>1</td>\n",
       "      <td>0</td>\n",
       "      <td>...</td>\n",
       "      <td>0.0</td>\n",
       "      <td>0.0</td>\n",
       "      <td>2.0</td>\n",
       "      <td>3</td>\n",
       "      <td>0.0</td>\n",
       "      <td>0.0</td>\n",
       "      <td>0.0</td>\n",
       "      <td>86</td>\n",
       "      <td>8</td>\n",
       "      <td>0.034973</td>\n",
       "    </tr>\n",
       "    <tr>\n",
       "      <th>4</th>\n",
       "      <td>100010</td>\n",
       "      <td>Brussels</td>\n",
       "      <td>Brussels</td>\n",
       "      <td>1</td>\n",
       "      <td>0</td>\n",
       "      <td>0</td>\n",
       "      <td>0</td>\n",
       "      <td>0</td>\n",
       "      <td>1</td>\n",
       "      <td>0</td>\n",
       "      <td>...</td>\n",
       "      <td>0.0</td>\n",
       "      <td>0.0</td>\n",
       "      <td>3.0</td>\n",
       "      <td>3</td>\n",
       "      <td>0.0</td>\n",
       "      <td>0.0</td>\n",
       "      <td>0.0</td>\n",
       "      <td>35</td>\n",
       "      <td>3</td>\n",
       "      <td>0.005269</td>\n",
       "    </tr>\n",
       "  </tbody>\n",
       "</table>\n",
       "<p>5 rows × 42 columns</p>\n",
       "</div>"
      ],
      "text/plain": [
       "   donorID         province    region  gender  language  Flanders  Wallonia  \\\n",
       "0   100001  Flemish Brabant  Flanders       0         1         1         0   \n",
       "1   100002          Antwerp  Flanders       1         1         1         0   \n",
       "2   100008  Flemish Brabant  Flanders       1         0         1         0   \n",
       "3   100009         Brussels  Brussels       1         0         0         0   \n",
       "4   100010         Brussels  Brussels       1         0         0         0   \n",
       "\n",
       "   Antwerp  Brussels  East Flanders  ...    F    M  RFM_Score  RFM_Level  \\\n",
       "0        0         0              0  ...  0.0  0.0        2.0          3   \n",
       "1        1         0              0  ...  0.0  0.0        3.0          3   \n",
       "2        0         0              0  ...  0.0  0.0        2.0          3   \n",
       "3        0         1              0  ...  0.0  0.0        2.0          3   \n",
       "4        0         1              0  ...  0.0  0.0        3.0          3   \n",
       "\n",
       "   don_last_six_mon  don_last_year  don_last_3_years  age  age_group  \\\n",
       "0               0.0            0.0               0.0   51          5   \n",
       "1               0.0            0.0               0.0   66          6   \n",
       "2               0.0            0.0               0.0   81          8   \n",
       "3               0.0            0.0               0.0   86          8   \n",
       "4               0.0            0.0               0.0   35          3   \n",
       "\n",
       "   proba_donation  \n",
       "0        0.031020  \n",
       "1        0.018653  \n",
       "2        0.030047  \n",
       "3        0.034973  \n",
       "4        0.005269  \n",
       "\n",
       "[5 rows x 42 columns]"
      ]
     },
     "execution_count": 19,
     "metadata": {},
     "output_type": "execute_result"
    }
   ],
   "source": [
    "df_test['proba_donation']= pred_test[:,1]\n",
    "df_test.head()"
   ]
  },
  {
   "cell_type": "code",
   "execution_count": 20,
   "id": "8bf37e0d",
   "metadata": {},
   "outputs": [
    {
     "data": {
      "text/plain": [
       "(25642, 42)"
      ]
     },
     "execution_count": 20,
     "metadata": {},
     "output_type": "execute_result"
    }
   ],
   "source": [
    "df_test = df_test.sort_values('proba_donation', ascending = False)\n",
    "df_test.shape"
   ]
  },
  {
   "cell_type": "markdown",
   "id": "1c952c20",
   "metadata": {},
   "source": [
    "By subgrouping everything into 5 groups, we can calculate the probability of donation by group"
   ]
  },
  {
   "cell_type": "code",
   "execution_count": 21,
   "id": "e622765e",
   "metadata": {},
   "outputs": [],
   "source": [
    "p20 = int(round(25642*0.2,0))\n",
    "p40 = int(round(25642*0.4,0))\n",
    "p60 = int(round(25642*0.6,0))\n",
    "p80 = int(round(25642*0.8,0))\n",
    "p100 = 25642\n"
   ]
  },
  {
   "cell_type": "code",
   "execution_count": 22,
   "id": "00ebb4f7",
   "metadata": {},
   "outputs": [],
   "source": [
    "prob20 = df_test.iloc[0:p20,:]\n",
    "prob40 = df_test.iloc[0:p40,:]\n",
    "prob60 = df_test.iloc[0:p60,:]\n",
    "prob80 = df_test.iloc[0:p80,:]\n",
    "prob100 = df_test.iloc[0:p100,:]\n"
   ]
  },
  {
   "cell_type": "markdown",
   "id": "a5e70018",
   "metadata": {},
   "source": [
    "This is the calculated probability of donation"
   ]
  },
  {
   "cell_type": "code",
   "execution_count": 23,
   "id": "f860060a",
   "metadata": {
    "scrolled": true
   },
   "outputs": [
    {
     "name": "stdout",
     "output_type": "stream",
     "text": [
      "0.07592165448378686\n",
      "0.05233349991796106\n",
      "0.04041418748986919\n",
      "0.03265148026404584\n",
      "0.02714898113783966\n"
     ]
    }
   ],
   "source": [
    "print(prob20['proba_donation'].sum()/p20)\n",
    "print(prob40['proba_donation'].sum()/p40)\n",
    "print(prob60['proba_donation'].sum()/p60)\n",
    "print(prob80['proba_donation'].sum()/p80)\n",
    "print(prob100['proba_donation'].sum()/p100)\n",
    "\n"
   ]
  },
  {
   "cell_type": "markdown",
   "id": "3416acb9",
   "metadata": {},
   "source": [
    "This is the real donation rate"
   ]
  },
  {
   "cell_type": "code",
   "execution_count": 24,
   "id": "2452bb5a",
   "metadata": {
    "scrolled": true
   },
   "outputs": [
    {
     "name": "stdout",
     "output_type": "stream",
     "text": [
      "0.01579563182527301\n",
      "0.01286926001754899\n",
      "0.011179720506987326\n",
      "0.009700692210197913\n",
      "0.008462678418220107\n"
     ]
    }
   ],
   "source": [
    "#real \n",
    "print(prob20['target_7244'].sum()/p20)\n",
    "print(prob40['target_7244'].sum()/p40)\n",
    "print(prob60['target_7244'].sum()/p60)\n",
    "print(prob80['target_7244'].sum()/p80)\n",
    "print(prob100['target_7244'].sum()/p100)\n",
    "\n"
   ]
  },
  {
   "cell_type": "markdown",
   "id": "c74c3665",
   "metadata": {},
   "source": [
    "**Following, we calculate our lift, cumulative gains and donation probability in the annexed excel file**"
   ]
  },
  {
   "cell_type": "markdown",
   "id": "7db10b24",
   "metadata": {},
   "source": [
    "### Profiling\n",
    "based on our predicted probability, we can profile our donors to identify what is our -role- donor."
   ]
  },
  {
   "cell_type": "code",
   "execution_count": 25,
   "id": "14975e4d",
   "metadata": {
    "scrolled": true
   },
   "outputs": [
    {
     "data": {
      "text/plain": [
       "<matplotlib.collections.PathCollection at 0x1ccbcdeac10>"
      ]
     },
     "execution_count": 25,
     "metadata": {},
     "output_type": "execute_result"
    },
    {
     "data": {
      "image/png": "[encoded data removed]",
      "text/plain": [
       "<Figure size 432x288 with 1 Axes>"
      ]
     },
     "metadata": {
      "needs_background": "light"
     },
     "output_type": "display_data"
    }
   ],
   "source": [
    "#Take a look at the Age range \n",
    "\n",
    "plt.scatter(df_test['proba_donation'],df_test['age'])"
   ]
  },
  {
   "cell_type": "markdown",
   "id": "5d49799b",
   "metadata": {},
   "source": [
    "Splitting our database into deciles we can observe our mean age by group"
   ]
  },
  {
   "cell_type": "code",
   "execution_count": 26,
   "id": "37004261",
   "metadata": {
    "scrolled": true
   },
   "outputs": [
    {
     "name": "stderr",
     "output_type": "stream",
     "text": [
      "<ipython-input-26-80e414443fd8>:2: FutureWarning: Indexing with multiple keys (implicitly converted to a tuple of keys) will be deprecated, use a list instead.\n",
      "  df_test.groupby('proba_group')['age','proba_donation'].agg('mean')\n"
     ]
    },
    {
     "data": {
      "text/html": [
       "<div>\n",
       "<style scoped>\n",
       "    .dataframe tbody tr th:only-of-type {\n",
       "        vertical-align: middle;\n",
       "    }\n",
       "\n",
       "    .dataframe tbody tr th {\n",
       "        vertical-align: top;\n",
       "    }\n",
       "\n",
       "    .dataframe thead th {\n",
       "        text-align: right;\n",
       "    }\n",
       "</style>\n",
       "<table border=\"1\" class=\"dataframe\">\n",
       "  <thead>\n",
       "    <tr style=\"text-align: right;\">\n",
       "      <th></th>\n",
       "      <th>age</th>\n",
       "      <th>proba_donation</th>\n",
       "    </tr>\n",
       "    <tr>\n",
       "      <th>proba_group</th>\n",
       "      <th></th>\n",
       "      <th></th>\n",
       "    </tr>\n",
       "  </thead>\n",
       "  <tbody>\n",
       "    <tr>\n",
       "      <th>0.0</th>\n",
       "      <td>47.774021</td>\n",
       "      <td>0.022488</td>\n",
       "    </tr>\n",
       "    <tr>\n",
       "      <th>1.0</th>\n",
       "      <td>74.134921</td>\n",
       "      <td>0.126303</td>\n",
       "    </tr>\n",
       "    <tr>\n",
       "      <th>2.0</th>\n",
       "      <td>81.250000</td>\n",
       "      <td>0.238444</td>\n",
       "    </tr>\n",
       "    <tr>\n",
       "      <th>3.0</th>\n",
       "      <td>81.468750</td>\n",
       "      <td>0.336603</td>\n",
       "    </tr>\n",
       "    <tr>\n",
       "      <th>4.0</th>\n",
       "      <td>80.625000</td>\n",
       "      <td>0.454920</td>\n",
       "    </tr>\n",
       "    <tr>\n",
       "      <th>5.0</th>\n",
       "      <td>84.200000</td>\n",
       "      <td>0.538484</td>\n",
       "    </tr>\n",
       "    <tr>\n",
       "      <th>7.0</th>\n",
       "      <td>50.000000</td>\n",
       "      <td>0.788123</td>\n",
       "    </tr>\n",
       "  </tbody>\n",
       "</table>\n",
       "</div>"
      ],
      "text/plain": [
       "                   age  proba_donation\n",
       "proba_group                           \n",
       "0.0          47.774021        0.022488\n",
       "1.0          74.134921        0.126303\n",
       "2.0          81.250000        0.238444\n",
       "3.0          81.468750        0.336603\n",
       "4.0          80.625000        0.454920\n",
       "5.0          84.200000        0.538484\n",
       "7.0          50.000000        0.788123"
      ]
     },
     "execution_count": 26,
     "metadata": {},
     "output_type": "execute_result"
    }
   ],
   "source": [
    "df_test['proba_group'] = df_test['proba_donation']//0.1\n",
    "df_test.groupby('proba_group')['age','proba_donation'].agg('mean')"
   ]
  },
  {
   "cell_type": "markdown",
   "id": "9d379ada",
   "metadata": {},
   "source": [
    "We decide to Profile all of those customer that have a 40% or more probability of donating"
   ]
  },
  {
   "cell_type": "code",
   "execution_count": 27,
   "id": "598398d5",
   "metadata": {},
   "outputs": [],
   "source": [
    "#we are going to select for more than 40% of probability\n",
    "\n",
    "df_test['most_prob'] = 0\n",
    "df_test.loc[df_test['proba_donation']>=0.4,'most_prob'] = 1"
   ]
  },
  {
   "cell_type": "code",
   "execution_count": 28,
   "id": "b9df2bc7",
   "metadata": {},
   "outputs": [
    {
     "data": {
      "text/plain": [
       "0.000545979252788394"
      ]
     },
     "execution_count": 28,
     "metadata": {},
     "output_type": "execute_result"
    }
   ],
   "source": [
    "df_test['most_prob'].sum()/df_test.shape[0]"
   ]
  },
  {
   "cell_type": "code",
   "execution_count": 29,
   "id": "41988fca",
   "metadata": {},
   "outputs": [
    {
     "data": {
      "text/plain": [
       "25642"
      ]
     },
     "execution_count": 29,
     "metadata": {},
     "output_type": "execute_result"
    }
   ],
   "source": [
    "df_test.shape[0]"
   ]
  },
  {
   "cell_type": "markdown",
   "id": "cf94b9a2",
   "metadata": {},
   "source": [
    "We can observe the median age for our probable donors is 92"
   ]
  },
  {
   "cell_type": "code",
   "execution_count": 30,
   "id": "954ee40c",
   "metadata": {},
   "outputs": [
    {
     "data": {
      "text/html": [
       "<div>\n",
       "<style scoped>\n",
       "    .dataframe tbody tr th:only-of-type {\n",
       "        vertical-align: middle;\n",
       "    }\n",
       "\n",
       "    .dataframe tbody tr th {\n",
       "        vertical-align: top;\n",
       "    }\n",
       "\n",
       "    .dataframe thead th {\n",
       "        text-align: right;\n",
       "    }\n",
       "</style>\n",
       "<table border=\"1\" class=\"dataframe\">\n",
       "  <thead>\n",
       "    <tr style=\"text-align: right;\">\n",
       "      <th></th>\n",
       "      <th>mean</th>\n",
       "      <th>min</th>\n",
       "      <th>median</th>\n",
       "    </tr>\n",
       "    <tr>\n",
       "      <th>most_prob</th>\n",
       "      <th></th>\n",
       "      <th></th>\n",
       "      <th></th>\n",
       "    </tr>\n",
       "  </thead>\n",
       "  <tbody>\n",
       "    <tr>\n",
       "      <th>0</th>\n",
       "      <td>48.740011</td>\n",
       "      <td>20</td>\n",
       "      <td>47.0</td>\n",
       "    </tr>\n",
       "    <tr>\n",
       "      <th>1</th>\n",
       "      <td>79.714286</td>\n",
       "      <td>50</td>\n",
       "      <td>80.5</td>\n",
       "    </tr>\n",
       "  </tbody>\n",
       "</table>\n",
       "</div>"
      ],
      "text/plain": [
       "                mean  min  median\n",
       "most_prob                        \n",
       "0          48.740011   20    47.0\n",
       "1          79.714286   50    80.5"
      ]
     },
     "execution_count": 30,
     "metadata": {},
     "output_type": "execute_result"
    }
   ],
   "source": [
    "df_test.groupby('most_prob')['age'].agg(['mean','min','median'])"
   ]
  },
  {
   "cell_type": "code",
   "execution_count": 31,
   "id": "9499d39b",
   "metadata": {
    "scrolled": true
   },
   "outputs": [
    {
     "data": {
      "text/plain": [
       "most_prob\n",
       "0    15440\n",
       "1        2\n",
       "Name: gender, dtype: int64"
      ]
     },
     "execution_count": 31,
     "metadata": {},
     "output_type": "execute_result"
    }
   ],
   "source": [
    "df_test.groupby('most_prob')['gender'].agg('sum')"
   ]
  },
  {
   "cell_type": "markdown",
   "id": "bad9c2e0",
   "metadata": {},
   "source": [
    "Grouped by gender, the majority are female"
   ]
  },
  {
   "cell_type": "code",
   "execution_count": 32,
   "id": "d0d4391a",
   "metadata": {},
   "outputs": [
    {
     "data": {
      "text/html": [
       "<div>\n",
       "<style scoped>\n",
       "    .dataframe tbody tr th:only-of-type {\n",
       "        vertical-align: middle;\n",
       "    }\n",
       "\n",
       "    .dataframe tbody tr th {\n",
       "        vertical-align: top;\n",
       "    }\n",
       "\n",
       "    .dataframe thead th {\n",
       "        text-align: right;\n",
       "    }\n",
       "</style>\n",
       "<table border=\"1\" class=\"dataframe\">\n",
       "  <thead>\n",
       "    <tr style=\"text-align: right;\">\n",
       "      <th>gender</th>\n",
       "      <th>0</th>\n",
       "      <th>1</th>\n",
       "      <th>All</th>\n",
       "    </tr>\n",
       "    <tr>\n",
       "      <th>most_prob</th>\n",
       "      <th></th>\n",
       "      <th></th>\n",
       "      <th></th>\n",
       "    </tr>\n",
       "  </thead>\n",
       "  <tbody>\n",
       "    <tr>\n",
       "      <th>0</th>\n",
       "      <td>10188</td>\n",
       "      <td>15440</td>\n",
       "      <td>25628</td>\n",
       "    </tr>\n",
       "    <tr>\n",
       "      <th>1</th>\n",
       "      <td>12</td>\n",
       "      <td>2</td>\n",
       "      <td>14</td>\n",
       "    </tr>\n",
       "    <tr>\n",
       "      <th>All</th>\n",
       "      <td>10200</td>\n",
       "      <td>15442</td>\n",
       "      <td>25642</td>\n",
       "    </tr>\n",
       "  </tbody>\n",
       "</table>\n",
       "</div>"
      ],
      "text/plain": [
       "gender         0      1    All\n",
       "most_prob                     \n",
       "0          10188  15440  25628\n",
       "1             12      2     14\n",
       "All        10200  15442  25642"
      ]
     },
     "execution_count": 32,
     "metadata": {},
     "output_type": "execute_result"
    }
   ],
   "source": [
    "pd.pivot_table(df_test,values='donorID',index='most_prob',columns='gender',aggfunc='count',margins=True)"
   ]
  },
  {
   "cell_type": "code",
   "execution_count": 33,
   "id": "a03fa435",
   "metadata": {
    "scrolled": true
   },
   "outputs": [
    {
     "data": {
      "text/html": [
       "<div>\n",
       "<style scoped>\n",
       "    .dataframe tbody tr th:only-of-type {\n",
       "        vertical-align: middle;\n",
       "    }\n",
       "\n",
       "    .dataframe tbody tr th {\n",
       "        vertical-align: top;\n",
       "    }\n",
       "\n",
       "    .dataframe thead th {\n",
       "        text-align: right;\n",
       "    }\n",
       "</style>\n",
       "<table border=\"1\" class=\"dataframe\">\n",
       "  <thead>\n",
       "    <tr style=\"text-align: right;\">\n",
       "      <th></th>\n",
       "      <th>donorID</th>\n",
       "      <th>province</th>\n",
       "      <th>region</th>\n",
       "      <th>gender</th>\n",
       "      <th>language</th>\n",
       "      <th>Flanders</th>\n",
       "      <th>Wallonia</th>\n",
       "      <th>Antwerp</th>\n",
       "      <th>Brussels</th>\n",
       "      <th>East Flanders</th>\n",
       "      <th>...</th>\n",
       "      <th>RFM_Score</th>\n",
       "      <th>RFM_Level</th>\n",
       "      <th>don_last_six_mon</th>\n",
       "      <th>don_last_year</th>\n",
       "      <th>don_last_3_years</th>\n",
       "      <th>age</th>\n",
       "      <th>age_group</th>\n",
       "      <th>proba_donation</th>\n",
       "      <th>proba_group</th>\n",
       "      <th>most_prob</th>\n",
       "    </tr>\n",
       "  </thead>\n",
       "  <tbody>\n",
       "    <tr>\n",
       "      <th>2473</th>\n",
       "      <td>105428</td>\n",
       "      <td>West Flanders</td>\n",
       "      <td>Flanders</td>\n",
       "      <td>0</td>\n",
       "      <td>1</td>\n",
       "      <td>1</td>\n",
       "      <td>0</td>\n",
       "      <td>0</td>\n",
       "      <td>0</td>\n",
       "      <td>0</td>\n",
       "      <td>...</td>\n",
       "      <td>5.0</td>\n",
       "      <td>2</td>\n",
       "      <td>1.0</td>\n",
       "      <td>1.0</td>\n",
       "      <td>1.0</td>\n",
       "      <td>50</td>\n",
       "      <td>5</td>\n",
       "      <td>0.788123</td>\n",
       "      <td>7.0</td>\n",
       "      <td>1</td>\n",
       "    </tr>\n",
       "  </tbody>\n",
       "</table>\n",
       "<p>1 rows × 44 columns</p>\n",
       "</div>"
      ],
      "text/plain": [
       "      donorID       province    region  gender  language  Flanders  Wallonia  \\\n",
       "2473   105428  West Flanders  Flanders       0         1         1         0   \n",
       "\n",
       "      Antwerp  Brussels  East Flanders  ...  RFM_Score  RFM_Level  \\\n",
       "2473        0         0              0  ...        5.0          2   \n",
       "\n",
       "      don_last_six_mon  don_last_year  don_last_3_years  age  age_group  \\\n",
       "2473               1.0            1.0               1.0   50          5   \n",
       "\n",
       "      proba_donation  proba_group  most_prob  \n",
       "2473        0.788123          7.0          1  \n",
       "\n",
       "[1 rows x 44 columns]"
      ]
     },
     "execution_count": 33,
     "metadata": {},
     "output_type": "execute_result"
    }
   ],
   "source": [
    "df_test.head(1)"
   ]
  },
  {
   "cell_type": "markdown",
   "id": "a5dbf44b",
   "metadata": {},
   "source": [
    "Grouped by preferred language, the majority speak Dutch"
   ]
  },
  {
   "cell_type": "code",
   "execution_count": 34,
   "id": "85e7e678",
   "metadata": {},
   "outputs": [
    {
     "data": {
      "text/html": [
       "<div>\n",
       "<style scoped>\n",
       "    .dataframe tbody tr th:only-of-type {\n",
       "        vertical-align: middle;\n",
       "    }\n",
       "\n",
       "    .dataframe tbody tr th {\n",
       "        vertical-align: top;\n",
       "    }\n",
       "\n",
       "    .dataframe thead th {\n",
       "        text-align: right;\n",
       "    }\n",
       "</style>\n",
       "<table border=\"1\" class=\"dataframe\">\n",
       "  <thead>\n",
       "    <tr style=\"text-align: right;\">\n",
       "      <th>language</th>\n",
       "      <th>0</th>\n",
       "      <th>1</th>\n",
       "      <th>All</th>\n",
       "    </tr>\n",
       "    <tr>\n",
       "      <th>most_prob</th>\n",
       "      <th></th>\n",
       "      <th></th>\n",
       "      <th></th>\n",
       "    </tr>\n",
       "  </thead>\n",
       "  <tbody>\n",
       "    <tr>\n",
       "      <th>0</th>\n",
       "      <td>2294</td>\n",
       "      <td>23334</td>\n",
       "      <td>25628</td>\n",
       "    </tr>\n",
       "    <tr>\n",
       "      <th>1</th>\n",
       "      <td>1</td>\n",
       "      <td>13</td>\n",
       "      <td>14</td>\n",
       "    </tr>\n",
       "    <tr>\n",
       "      <th>All</th>\n",
       "      <td>2295</td>\n",
       "      <td>23347</td>\n",
       "      <td>25642</td>\n",
       "    </tr>\n",
       "  </tbody>\n",
       "</table>\n",
       "</div>"
      ],
      "text/plain": [
       "language      0      1    All\n",
       "most_prob                    \n",
       "0          2294  23334  25628\n",
       "1             1     13     14\n",
       "All        2295  23347  25642"
      ]
     },
     "execution_count": 34,
     "metadata": {},
     "output_type": "execute_result"
    }
   ],
   "source": [
    "pd.pivot_table(df_test,values='donorID',index='most_prob',columns='language',aggfunc='count',margins=True)\n"
   ]
  },
  {
   "cell_type": "markdown",
   "id": "705a10d6",
   "metadata": {},
   "source": [
    "##  Model Prediction with new campagin"
   ]
  }
 ],
 "metadata": {
  "kernelspec": {
   "display_name": "Python 3",
   "language": "python",
   "name": "python3"
  },
  "language_info": {
   "codemirror_mode": {
    "name": "ipython",
    "version": 3
   },
   "file_extension": ".py",
   "mimetype": "text/x-python",
   "name": "python",
   "nbconvert_exporter": "python",
   "pygments_lexer": "ipython3",
   "version": "3.9.4"
  }
 },
 "nbformat": 4,
 "nbformat_minor": 5
}
